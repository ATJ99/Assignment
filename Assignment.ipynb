{
 "cells": [
  {
   "cell_type": "markdown",
   "id": "5a174fef-0e88-4f49-b8fd-75f93d11f3b6",
   "metadata": {},
   "source": [
    "# My Jupyter Notebook on IBM Watson Studio"
   ]
  },
  {
   "cell_type": "markdown",
   "id": "d852fc79-f698-4f87-beab-4aaf5433862c",
   "metadata": {},
   "source": [
    "**Anupa Jayakody**  \n",
    "Data Analyst"
   ]
  },
  {
   "cell_type": "markdown",
   "id": "5782d688-e0c1-4187-b060-a6eee7560a9d",
   "metadata": {},
   "source": [
    "*I like data science because it gets me excited to solve problems or create opportunities with data*"
   ]
  },
  {
   "cell_type": "markdown",
   "id": "c5cd53e0-e3b0-4b33-9448-494e0332fda0",
   "metadata": {},
   "source": [
    "### This code will calculate basic math problems"
   ]
  },
  {
   "cell_type": "code",
   "execution_count": 3,
   "id": "f76a852c-0182-427c-9e50-f0be4fa10757",
   "metadata": {
    "tags": []
   },
   "outputs": [
    {
     "data": {
      "text/plain": [
       "3"
      ]
     },
     "execution_count": 3,
     "metadata": {},
     "output_type": "execute_result"
    }
   ],
   "source": [
    "A= 1\n",
    "B= 2\n",
    "C= A+B\n",
    "C"
   ]
  },
  {
   "cell_type": "markdown",
   "id": "6e1cee31-d105-498d-ab43-0576bcd9842f",
   "metadata": {},
   "source": [
    "1. First\n",
    "2. Second \n",
    "\n",
    "This is a rule\n",
    "---\n",
    "\n",
    "|1st column|2nd column|3rd column|\n",
    "|---| ---| ---|\n",
    "|value1|value2|value3|"
   ]
  },
  {
   "cell_type": "code",
   "execution_count": null,
   "id": "f0d56e7c-1d9e-45af-a535-30d79f39c821",
   "metadata": {},
   "outputs": [],
   "source": []
  }
 ],
 "metadata": {
  "kernelspec": {
   "display_name": "Python 3 (ipykernel)",
   "language": "python",
   "name": "python3"
  },
  "language_info": {
   "codemirror_mode": {
    "name": "ipython",
    "version": 3
   },
   "file_extension": ".py",
   "mimetype": "text/x-python",
   "name": "python",
   "nbconvert_exporter": "python",
   "pygments_lexer": "ipython3",
   "version": "3.9.13"
  }
 },
 "nbformat": 4,
 "nbformat_minor": 5
}
